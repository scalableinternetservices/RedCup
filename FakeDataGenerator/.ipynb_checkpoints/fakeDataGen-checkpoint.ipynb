{
 "cells": [
  {
   "cell_type": "code",
   "execution_count": null,
   "id": "efa7f9a9",
   "metadata": {},
   "outputs": [],
   "source": [
    "email: Faker::Internet.unique.email,\n",
    "    password: Faker::Internet.password,\n",
    "    created_at: date,\n",
    "\tupdated_at: date"
   ]
  },
  {
   "cell_type": "code",
   "execution_count": 1,
   "id": "d687e1bf",
   "metadata": {},
   "outputs": [],
   "source": [
    "import pandas as pd\n",
    "from datetime import datetime, timedelta \n",
    "import random\n",
    "import string\n",
    "\n",
    "inicio = datetime(2009, 1, 30) \n",
    "final = datetime(2021, 10, 28) \n",
    "random_date = inicio + timedelta(seconds= int((final - inicio).total_seconds() * random.random())) "
   ]
  },
  {
   "cell_type": "raw",
   "id": "d63ab0e7",
   "metadata": {},
   "source": [
    "email: Faker::Internet.unique.email,\n",
    "    password: \"1234567\",\n",
    "    created_at: date,\n",
    "\tupdated_at: date"
   ]
  },
  {
   "cell_type": "code",
   "execution_count": 2,
   "id": "4d878642",
   "metadata": {},
   "outputs": [],
   "source": [
    "users = []\n",
    "for i in range(1, 10000+1):\n",
    "    tmp = []\n",
    "    random_date = inicio + timedelta(seconds= int((final - inicio).total_seconds() * random.random())) \n",
    "    tmp.append(f'test{i}@redcup.com')\n",
    "    pass_len = random.randint(8, 12)\n",
    "    password =''.join(random.choices(string.ascii_uppercase +\n",
    "                                     string.digits, k = pass_len))\n",
    "    tmp.append(password)\n",
    "    date = inicio + timedelta(seconds= int((final - inicio).total_seconds() * random.random())) \n",
    "    tmp.append(date)\n",
    "    tmp.append(date)\n",
    "    users.append(tmp)\n",
    "\n",
    "users_df = pd.DataFrame(users, columns=['email', 'password', 'created_at', 'updated_at'])\n",
    "\n",
    "users_df.to_csv('users.csv', index=False, header=False)"
   ]
  },
  {
   "cell_type": "raw",
   "id": "730694e0",
   "metadata": {},
   "source": [
    "Comment.create(\n",
    "\t\tcomment: Faker::Lorem.sentence(word_count: 20, supplemental: false, random_words_to_add: 10),\n",
    "    \tvlog_id: rand(1..100),\n",
    "    \tuser_id: rand(1..100),\n",
    "    \tcreated_at: date,\n",
    "\t\tupdated_at: date,\n",
    "\t\t)"
   ]
  },
  {
   "cell_type": "code",
   "execution_count": null,
   "id": "9e6b8fce",
   "metadata": {},
   "outputs": [],
   "source": [
    "comments = []\n",
    "print(123)\n",
    "for i in range(1, 100+1):\n",
    "    tmp = []\n",
    "    random_date = inicio + timedelta(seconds= int((final - inicio).total_seconds() * random.random()))\n",
    "    comment_len = random.randint(10, 30)\n",
    "    comment =''\n",
    "    print(123)\n",
    "    for j in range(comment_len):\n",
    "        word_len = random.randint(2, 10)\n",
    "        print(comment)\n",
    "        comment = comment.join(random.choices(string.ascii_uppercase + string.ascii_lowercase, k=word_len))\n",
    "        print(comment)\n",
    "    \n",
    "    tmp.append(comment)\n",
    "    vlog_id = random.randint(1, 10000)\n",
    "    user_id = random.randint(1, 10000)\n",
    "    \n",
    "    tmp.append(vlog_id)\n",
    "    tmp.append(user_id)\n",
    "    \n",
    "    date = inicio + timedelta(seconds= int((final - inicio).total_seconds() * random.random())) \n",
    "    tmp.append(date)\n",
    "    tmp.append(date)\n",
    "    comments.append(tmp)\n",
    "\n",
    "comments_df = pd.DataFrame(comments, columns=['comment','vlog_id', 'user_id', 'created_at', 'updated_at'])\n",
    "\n",
    "comments_df.to_csv('comments.csv', index=False, header=False)"
   ]
  },
  {
   "cell_type": "code",
   "execution_count": null,
   "id": "4797a19b",
   "metadata": {},
   "outputs": [],
   "source": [
    "comment"
   ]
  },
  {
   "cell_type": "raw",
   "id": "2dec6ada",
   "metadata": {},
   "source": [
    "      Like.create(\n",
    "    \tvlog_id: rand(1..100),\n",
    "    \tuser_id: rand(1..100),\n",
    "    \tcreated_at: date,\n",
    "\t\tupdated_at: date,\n",
    "\t\t)"
   ]
  },
  {
   "cell_type": "code",
   "execution_count": 65,
   "id": "e2432a1d",
   "metadata": {},
   "outputs": [],
   "source": [
    "likes = []\n",
    "for i in range(1, 100000+1):\n",
    "    tmp = []\n",
    "    random_date = inicio + timedelta(seconds= int((final - inicio).total_seconds() * random.random()))\n",
    "    \n",
    "    vlog_id = random.randint(1, 10000)\n",
    "    user_id = random.randint(1, 10000)\n",
    "    \n",
    "    tmp.append(vlog_id)\n",
    "    tmp.append(user_id)\n",
    "    \n",
    "    date = inicio + timedelta(seconds= int((final - inicio).total_seconds() * random.random())) \n",
    "    tmp.append(date)\n",
    "    tmp.append(date)\n",
    "    likes.append(tmp)\n",
    "\n",
    "likes_df = pd.DataFrame(likes, columns=['vlog_id', 'user_id', 'created_at', 'updated_at'])\n",
    "\n",
    "likes_df.to_csv('likes.csv', index=False, header=False)"
   ]
  },
  {
   "cell_type": "code",
   "execution_count": null,
   "id": "87847672",
   "metadata": {},
   "outputs": [],
   "source": []
  }
 ],
 "metadata": {
  "kernelspec": {
   "display_name": "Python 3",
   "language": "python",
   "name": "python3"
  },
  "language_info": {
   "codemirror_mode": {
    "name": "ipython",
    "version": 3
   },
   "file_extension": ".py",
   "mimetype": "text/x-python",
   "name": "python",
   "nbconvert_exporter": "python",
   "pygments_lexer": "ipython3",
   "version": "3.8.3"
  },
  "toc": {
   "base_numbering": 1,
   "nav_menu": {},
   "number_sections": true,
   "sideBar": true,
   "skip_h1_title": false,
   "title_cell": "Table of Contents",
   "title_sidebar": "Contents",
   "toc_cell": false,
   "toc_position": {},
   "toc_section_display": true,
   "toc_window_display": false
  }
 },
 "nbformat": 4,
 "nbformat_minor": 5
}

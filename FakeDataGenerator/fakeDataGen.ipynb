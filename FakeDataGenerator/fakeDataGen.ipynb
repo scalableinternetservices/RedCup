{
 "cells": [
  {
   "cell_type": "code",
   "execution_count": null,
   "id": "b34193ba",
   "metadata": {},
   "outputs": [],
   "source": [
    "email: Faker::Internet.unique.email,\n",
    "    password: Faker::Internet.password,\n",
    "    created_at: date,\n",
    "\tupdated_at: date"
   ]
  },
  {
   "cell_type": "code",
   "execution_count": 1,
   "id": "980c8968",
   "metadata": {},
   "outputs": [],
   "source": [
    "import pandas as pd\n",
    "from datetime import datetime, timedelta \n",
    "import random\n",
    "import string\n",
    "\n",
    "inicio = datetime(2009, 1, 30) \n",
    "final = datetime(2021, 10, 28) \n",
    "random_date = inicio + timedelta(seconds= int((final - inicio).total_seconds() * random.random())) "
   ]
  },
  {
   "cell_type": "raw",
   "id": "c613d265",
   "metadata": {},
   "source": [
    "email: Faker::Internet.unique.email,\n",
    "    password: \"1234567\",\n",
    "    created_at: date,\n",
    "\tupdated_at: date"
   ]
  },
  {
   "cell_type": "code",
   "execution_count": 2,
   "id": "81119a8f",
   "metadata": {},
   "outputs": [],
   "source": [
    "users = []\n",
    "for i in range(1, 10000+1):\n",
    "    tmp = []\n",
    "    random_date = inicio + timedelta(seconds= int((final - inicio).total_seconds() * random.random())) \n",
    "    tmp.append(f'test{i}@redcup.com')\n",
    "    pass_len = random.randint(8, 12)\n",
    "    password =''.join(random.choices(string.ascii_uppercase +\n",
    "                                     string.digits, k = pass_len))\n",
    "    tmp.append(password)\n",
    "    date = inicio + timedelta(seconds= int((final - inicio).total_seconds() * random.random())) \n",
    "    tmp.append(date)\n",
    "    tmp.append(date)\n",
    "    users.append(tmp)\n",
    "\n",
    "users_df = pd.DataFrame(users, columns=['email', 'password', 'created_at', 'updated_at'])\n",
    "\n",
    "users_df.to_csv('users.csv', index=False, header=False)"
   ]
  },
  {
   "cell_type": "raw",
   "id": "bc144931",
   "metadata": {},
   "source": [
    "Vlog.create(\n",
    "\t\ttitle: Faker::Lorem.sentence(word_count: 3, supplemental: true, random_words_to_add: 4),\n",
    "\t\tcontent: Faker::Lorem.paragraph(sentence_count: 6, supplemental: true, random_sentences_to_add: 4),\n",
    "\t\tcreated_at: date,\n",
    "\t\tupdated_at: date,\n",
    "    \tuser_id: rand(1..10000)\n",
    "    )"
   ]
  },
  {
   "cell_type": "code",
   "execution_count": 11,
   "id": "7ea12c79",
   "metadata": {},
   "outputs": [],
   "source": [
    "vlogs = []\n",
    "\n",
    "for i in range(1, 10000+1):\n",
    "    tmp = []\n",
    "    random_date = inicio + timedelta(seconds= int((final - inicio).total_seconds() * random.random()))\n",
    "    \n",
    "    title_len = random.randint(10, 30)\n",
    "    title =''\n",
    "    for j in range(title_len):\n",
    "        word_len = random.randint(3, 10)\n",
    "        title  += ''.join(random.choices(string.ascii_uppercase + string.ascii_lowercase, k=word_len))\n",
    "        title  += ' '\n",
    "        \n",
    "    tmp.append(title)\n",
    "    \n",
    "    content_len = random.randint(10, 100)\n",
    "    content =''\n",
    "    for j in range(content_len):\n",
    "        word_len = random.randint(3, 10)\n",
    "        content  += ''.join(random.choices(string.ascii_uppercase + string.ascii_lowercase, k=word_len))\n",
    "        content  += ' '\n",
    "    \n",
    "    tmp.append(content)\n",
    "    \n",
    "    date = inicio + timedelta(seconds= int((final - inicio).total_seconds() * random.random())) \n",
    "    tmp.append(date)\n",
    "    tmp.append(date)\n",
    "    \n",
    "    user_id = random.randint(1, 10000)\n",
    "    tmp.append(user_id)\n",
    "    \n",
    "    vlogs.append(tmp)\n",
    "\n",
    "vlogs_df = pd.DataFrame(vlogs, columns=['title','content', 'created_at', 'updated_at', 'user_id'])\n",
    "\n",
    "vlogs_df.to_csv('vlogs.csv', index=False, header=False)"
   ]
  },
  {
   "cell_type": "raw",
   "id": "6d972356",
   "metadata": {},
   "source": [
    "Comment.create(\n",
    "\t\tcomment: Faker::Lorem.sentence(word_count: 20, supplemental: false, random_words_to_add: 10),\n",
    "    \tvlog_id: rand(1..100),\n",
    "    \tuser_id: rand(1..100),\n",
    "    \tcreated_at: date,\n",
    "\t\tupdated_at: date,\n",
    "\t\t)"
   ]
  },
  {
   "cell_type": "code",
   "execution_count": 9,
   "id": "0095160b",
   "metadata": {
    "scrolled": false
   },
   "outputs": [],
   "source": [
    "comments = []\n",
    "\n",
    "for i in range(1, 100000+1):\n",
    "    tmp = []\n",
    "    random_date = inicio + timedelta(seconds= int((final - inicio).total_seconds() * random.random()))\n",
    "    comment_len = random.randint(10, 30)\n",
    "    comment =''\n",
    "    for j in range(comment_len):\n",
    "        word_len = random.randint(2, 10)\n",
    "        comment += ''.join(random.choices(string.ascii_uppercase + string.ascii_lowercase, k=word_len))\n",
    "        comment += ' '\n",
    "    \n",
    "    tmp.append(comment)\n",
    "    vlog_id = random.randint(1, 10000)\n",
    "    user_id = random.randint(1, 10000)\n",
    "    \n",
    "    tmp.append(vlog_id)\n",
    "    tmp.append(user_id)\n",
    "    \n",
    "    date = inicio + timedelta(seconds= int((final - inicio).total_seconds() * random.random())) \n",
    "    tmp.append(date)\n",
    "    tmp.append(date)\n",
    "    comments.append(tmp)\n",
    "\n",
    "comments_df = pd.DataFrame(comments, columns=['comment','vlog_id', 'user_id', 'created_at', 'updated_at'])\n",
    "\n",
    "comments_df.to_csv('comments.csv', index=False, header=False)"
   ]
  },
  {
   "cell_type": "code",
   "execution_count": 4,
   "id": "d82c39d9",
   "metadata": {},
   "outputs": [
    {
     "data": {
      "text/plain": [
       "['J', 'G', 'n', 'P', 'l']"
      ]
     },
     "execution_count": 4,
     "metadata": {},
     "output_type": "execute_result"
    }
   ],
   "source": [
    "random.choices(string.ascii_uppercase + string.ascii_lowercase, k=word_len)"
   ]
  },
  {
   "cell_type": "raw",
   "id": "bda9ca1a",
   "metadata": {},
   "source": [
    "      Like.create(\n",
    "    \tvlog_id: rand(1..100),\n",
    "    \tuser_id: rand(1..100),\n",
    "    \tcreated_at: date,\n",
    "\t\tupdated_at: date,\n",
    "\t\t)"
   ]
  },
  {
   "cell_type": "code",
   "execution_count": 2,
   "id": "70a85b2b",
   "metadata": {},
   "outputs": [],
   "source": [
    "likes = []\n",
    "for i in range(1, 101000+1):\n",
    "    tmp = []\n",
    "    random_date = inicio + timedelta(seconds= int((final - inicio).total_seconds() * random.random()))\n",
    "    \n",
    "    vlog_id = random.randint(1, 10000)\n",
    "    user_id = random.randint(1, 10000)\n",
    "    \n",
    "    tmp.append(vlog_id)\n",
    "    tmp.append(user_id)\n",
    "    \n",
    "    date = inicio + timedelta(seconds= int((final - inicio).total_seconds() * random.random())) \n",
    "    tmp.append(date)\n",
    "    tmp.append(date)\n",
    "    likes.append(tmp)\n",
    "\n",
    "likes_df = pd.DataFrame(likes, columns=['vlog_id', 'user_id', 'created_at', 'updated_at'])\n",
    "\n",
    "likes_df = likes_df.drop_duplicates(subset=['vlog_id','user_id'], keep=\"last\")\n",
    "likes_df = likes_df.iloc[:10000]\n",
    "likes_df.to_csv('likes.csv', index=False, header=False)"
   ]
  },
  {
   "cell_type": "code",
   "execution_count": 3,
   "id": "f5c4fb4c",
   "metadata": {},
   "outputs": [
    {
     "data": {
      "text/plain": [
       "(10000, 4)"
      ]
     },
     "execution_count": 3,
     "metadata": {},
     "output_type": "execute_result"
    }
   ],
   "source": [
    "likes_df.shape"
   ]
  },
  {
   "cell_type": "code",
   "execution_count": null,
   "id": "df952d71",
   "metadata": {},
   "outputs": [],
   "source": []
  }
 ],
 "metadata": {
  "kernelspec": {
   "display_name": "Python 3",
   "language": "python",
   "name": "python3"
  },
  "language_info": {
   "codemirror_mode": {
    "name": "ipython",
    "version": 3
   },
   "file_extension": ".py",
   "mimetype": "text/x-python",
   "name": "python",
   "nbconvert_exporter": "python",
   "pygments_lexer": "ipython3",
   "version": "3.8.3"
  },
  "toc": {
   "base_numbering": 1,
   "nav_menu": {},
   "number_sections": true,
   "sideBar": true,
   "skip_h1_title": false,
   "title_cell": "Table of Contents",
   "title_sidebar": "Contents",
   "toc_cell": false,
   "toc_position": {},
   "toc_section_display": true,
   "toc_window_display": false
  }
 },
 "nbformat": 4,
 "nbformat_minor": 5
}
